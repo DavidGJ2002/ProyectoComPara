{
  "nbformat": 4,
  "nbformat_minor": 0,
  "metadata": {
    "colab": {
      "provenance": []
    },
    "kernelspec": {
      "name": "python3",
      "display_name": "Python 3"
    },
    "language_info": {
      "name": "python"
    }
  },
  "cells": [
    {
      "cell_type": "code",
      "execution_count": 1,
      "metadata": {
        "colab": {
          "base_uri": "https://localhost:8080/"
        },
        "id": "61dLEiRdyN3J",
        "outputId": "95b69576-9073-45aa-d544-9a1e001ddfaa"
      },
      "outputs": [
        {
          "output_type": "stream",
          "name": "stderr",
          "text": [
            "<ipython-input-1-62feda228610>:39: FutureWarning: A value is trying to be set on a copy of a DataFrame or Series through chained assignment using an inplace method.\n",
            "The behavior will change in pandas 3.0. This inplace method will never work because the intermediate object on which we are setting values always behaves as a copy.\n",
            "\n",
            "For example, when doing 'df[col].method(value, inplace=True)', try using 'df.method({col: value}, inplace=True)' or df[col] = df[col].method(value) instead, to perform the operation inplace on the original object.\n",
            "\n",
            "\n",
            "  data[column].fillna(mean_value, inplace=True)\n"
          ]
        },
        {
          "output_type": "stream",
          "name": "stdout",
          "text": [
            "       STATION       DATE  LATITUDE  LONGITUDE  ELEVATION  \\\n",
            "0  MXM00076683 1961-10-01   19.3167   -98.2333     2229.9   \n",
            "1  MXM00076683 1961-10-02   19.3167   -98.2333     2229.9   \n",
            "2  MXM00076683 1961-10-03   19.3167   -98.2333     2229.9   \n",
            "3  MXM00076683 1961-10-04   19.3167   -98.2333     2229.9   \n",
            "4  MXM00076683 1961-10-05   19.3167   -98.2333     2229.9   \n",
            "\n",
            "                             NAME  PRCP        SNWD  TMAX      TMIN  TAVG  \\\n",
            "0  tlaxcala de xicontecatl dge mx   0.0  915.857143   NaN  28.17121   NaN   \n",
            "1  tlaxcala de xicontecatl dge mx  64.0  915.857143   NaN  28.17121   NaN   \n",
            "2  tlaxcala de xicontecatl dge mx   0.0  915.857143   NaN  28.17121   NaN   \n",
            "3  tlaxcala de xicontecatl dge mx   0.0  915.857143   NaN  28.17121   NaN   \n",
            "4  tlaxcala de xicontecatl dge mx   0.0  915.857143   NaN  28.17121   NaN   \n",
            "\n",
            "   LATITUDE_scaled  LONGITUDE_scaled  ELEVATION_scaled  PRCP_scaled  \\\n",
            "0              NaN               NaN               NaN     0.000000   \n",
            "1              NaN               NaN               NaN     0.071349   \n",
            "2              NaN               NaN               NaN     0.000000   \n",
            "3              NaN               NaN               NaN     0.000000   \n",
            "4              NaN               NaN               NaN     0.000000   \n",
            "\n",
            "   SNWD_scaled  TMAX_scaled  TMIN_scaled  TAVG_scaled  \n",
            "0     0.473998          NaN     0.781712          NaN  \n",
            "1     0.473998          NaN     0.781712          NaN  \n",
            "2     0.473998          NaN     0.781712          NaN  \n",
            "3     0.473998          NaN     0.781712          NaN  \n",
            "4     0.473998          NaN     0.781712          NaN  \n"
          ]
        }
      ],
      "source": [
        "import pandas as pd\n",
        "import numpy as np\n",
        "\n",
        "# Cargar el archivo CSV en un DataFrame de pandas\n",
        "data = pd.read_csv(\"/content/sample_data/MXM00076683.csv\")\n",
        "\n",
        "# 1. Eliminación de duplicados\n",
        "data = data.drop_duplicates()\n",
        "\n",
        "# 2. Conversión de tipos de datos\n",
        "# Convertir columnas de fecha al tipo datetime (ajusta según el nombre de tus columnas de fecha)\n",
        "date_columns = ['DATE']  # Reemplazar con los nombres de tus columnas de fecha\n",
        "for column in date_columns:\n",
        "    data[column] = pd.to_datetime(data[column], errors='coerce')\n",
        "\n",
        "# Convertir columnas numéricas al tipo float\n",
        "numeric_columns = data.select_dtypes(include=['int64', 'float64']).columns\n",
        "data[numeric_columns] = data[numeric_columns].astype(float)\n",
        "\n",
        "# 3. Manejo de valores extremos en columnas de temperatura y precipitación\n",
        "# Definir umbrales para columnas relacionadas con la temperatura (TMAX, TMIN, TAVG) y precipitación (PRCP)\n",
        "def handle_outliers(column, lower, upper):\n",
        "    return column.apply(lambda x: np.nan if x < lower or x > upper else x)\n",
        "\n",
        "data['TMAX'] = handle_outliers(data['TMAX'], -50, 50)\n",
        "data['TMIN'] = handle_outliers(data['TMIN'], -50, 50)\n",
        "data['TAVG'] = handle_outliers(data['TAVG'], -50, 50)\n",
        "data['PRCP'] = handle_outliers(data['PRCP'], 0, 1000)  # Ajustar el umbral de PRCP según los datos\n",
        "\n",
        "# 4. Remplazo de valores inconsistentes en columnas de texto\n",
        "# Normalizar valores de texto eliminando caracteres especiales, espacios en blanco y usando minúsculas\n",
        "text_columns = ['NAME']  # Reemplazar con los nombres de columnas de texto\n",
        "for column in text_columns:\n",
        "    data[column] = data[column].str.replace(r\"[^a-zA-Z0-9 ]\", \"\", regex=True).str.lower().str.strip()\n",
        "\n",
        "# 5. Manejo de valores nulos (reemplazo con la media en columnas numéricas)\n",
        "for column in numeric_columns:\n",
        "    mean_value = data[column].mean()\n",
        "    data[column].fillna(mean_value, inplace=True)\n",
        "\n",
        "# 6. Eliminación de columnas innecesarias\n",
        "unnecessary_columns = ['PRCP_ATTRIBUTES', 'SNWD_ATTRIBUTES', 'TMAX_ATTRIBUTES', 'TMIN_ATTRIBUTES', 'TAVG_ATTRIBUTES']  # Ajusta según tus necesidades\n",
        "data = data.drop(columns=unnecessary_columns, errors='ignore')\n",
        "\n",
        "# 7. Normalización de datos sin paralelización\n",
        "# Normalizamos cada columna numérica entre 0 y 1\n",
        "def normalize_column(column):\n",
        "    min_val = column.min()\n",
        "    max_val = column.max()\n",
        "    return (column - min_val) / (max_val - min_val)\n",
        "\n",
        "# Normalizar cada columna numérica y crear nuevas columnas escaladas\n",
        "for column in numeric_columns:\n",
        "    data[column + \"_scaled\"] = normalize_column(data[column])\n",
        "\n",
        "# Mostrar algunas filas del DataFrame limpio y normalizado\n",
        "print(data.head())\n",
        "\n",
        "# Guardar el DataFrame limpio y normalizado en un nuevo archivo CSV si es necesario\n",
        "data.to_csv(\"archivo_normalizado_l.csv\", index=False)"
      ]
    }
  ]
}